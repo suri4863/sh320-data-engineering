{
 "cells": [
  {
   "cell_type": "code",
   "execution_count": null,
   "metadata": {},
   "outputs": [],
   "source": [
    "# 과제 4: 나의 조선시대 이름 찾기\n",
    "# 성(family name), 태어난 달(month)과 태어난 날짜(day)를 입력받아 나의 조선시대 이름을 출력하는 함수를 작성하시오."
   ]
  },
  {
   "cell_type": "code",
   "execution_count": null,
   "metadata": {},
   "outputs": [
    {
     "name": "stdout",
     "output_type": "stream",
     "text": [
      "당신의 조선시대 이름은 김복년 입니다.\n"
     ]
    }
   ],
   "source": [
    "def get_my_chosun_name(family_name, month, day):    # 매개변수: family_name, month, day\n",
    "\n",
    "    first_name = ['쌍', '쇠', '복', '돌', '팽', '육', '쌍', '개', '칠', '갑', '삼', '방']\n",
    "\n",
    "    last_name = ['봉', '구', '욕', '포', '똥', '삼', '식', '석', '놈', '님',\n",
    "                 '년', '돌', '단', '득', '방', '질', '장', '걸', '래', '룡',\n",
    "                 '동', '순', '자', '박', '창', '언', '것', '포', '만', '단', '국']\n",
    "\n",
    "\n",
    "    chosun_name = family_name + first_name[month - 1] + last_name[day - 1]\n",
    "\n",
    "    return f\"당신의 조선시대 이름은 {chosun_name} 입니다.\"\n",
    "\n"
   ]
  },
  {
   "cell_type": "code",
   "execution_count": 33,
   "metadata": {},
   "outputs": [
    {
     "name": "stdout",
     "output_type": "stream",
     "text": [
      "당신의 조선시대 이름은 김복년 입니다.\n"
     ]
    }
   ],
   "source": [
    "# 출력\n",
    "print(get_my_chosun_name('김', 3, 11))"
   ]
  }
 ],
 "metadata": {
  "kernelspec": {
   "display_name": "Python 3",
   "language": "python",
   "name": "python3"
  },
  "language_info": {
   "codemirror_mode": {
    "name": "ipython",
    "version": 3
   },
   "file_extension": ".py",
   "mimetype": "text/x-python",
   "name": "python",
   "nbconvert_exporter": "python",
   "pygments_lexer": "ipython3",
   "version": "3.11.2"
  }
 },
 "nbformat": 4,
 "nbformat_minor": 2
}
