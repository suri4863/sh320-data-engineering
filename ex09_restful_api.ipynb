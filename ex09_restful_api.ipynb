{
 "cells": [
  {
   "cell_type": "code",
   "execution_count": 2,
   "id": "15ab464f",
   "metadata": {},
   "outputs": [],
   "source": [
    "import requests\n",
    "import matplotlib.pyplot as plt\n",
    "import time\n",
    "\n",
    "# 1. 상위 100개 코인 정보 가져오기\n",
    "def get_top_100_coins():\n",
    "    url = \"https://api.coingecko.com/api/v3/coins/markets\"\n",
    "    params = {\n",
    "        \"vs_currency\": \"usd\",\n",
    "        \"order\": \"market_cap_desc\",\n",
    "        \"per_page\": 100,\n",
    "        \"page\": 1,\n",
    "        \"sparkline\": False\n",
    "    }\n",
    "    response = requests.get(url, params=params)\n",
    "    return response.json()\n",
    "\n",
    "# 2. 코인의 시가총액 추이 가져오기 (최근 7일 기준, 하루 단위)\n",
    "def get_market_chart(coin_id):\n",
    "    url = f\"https://api.coingecko.com/api/v3/coins/{coin_id}/market_chart\"\n",
    "    params = {\n",
    "        \"vs_currency\": \"usd\",\n",
    "        \"days\": 365,\n",
    "        \"interval\": \"daily\"\n",
    "    }\n",
    "    response = requests.get(url, params=params)\n",
    "    if response.status_code == 200:\n",
    "        return response.json()[\"market_caps\"]\n",
    "    else:\n",
    "        return []\n",
    "\n",
    "# 3. 시각화 함수\n",
    "def plot_market_caps(coin_data):\n",
    "    plt.figure(figsize=(16, 10))\n",
    "\n",
    "    for coin_name, market_caps in coin_data.items():\n",
    "        if not market_caps:\n",
    "            continue\n",
    "        timestamps = [cap[0] for cap in market_caps]\n",
    "        values = [cap[1] / 1e9 for cap in market_caps]  # 억 단위로 변환 (Billion USD)\n",
    "        label = coin_name if len(values) > 0 else \"\"\n",
    "        plt.plot(timestamps, values, label=label)\n",
    "\n",
    "    plt.title(\"Top 100 Alt Coins - Market Cap Trend (Last 365 Days)\")\n",
    "    plt.xlabel(\"Timestamp\")\n",
    "    plt.ylabel(\"Market Cap (Billion USD)\")\n",
    "    plt.xticks(rotation=45)\n",
    "    plt.legend(fontsize=\"small\", loc=\"upper left\", ncol=2)\n",
    "    plt.tight_layout()\n",
    "    plt.grid(True)\n",
    "    plt.show()"
   ]
  },
  {
   "cell_type": "code",
   "execution_count": null,
   "id": "9a5fb6e6",
   "metadata": {},
   "outputs": [
    {
     "name": "stdout",
     "output_type": "stream",
     "text": [
      "🚀 Fetching top 100 coins...\n",
      "📈 Fetching data for Tether (1/100)\n",
      "📈 Fetching data for XRP (2/100)\n",
      "📈 Fetching data for BNB (3/100)\n",
      "📈 Fetching data for Solana (4/100)\n",
      "📈 Fetching data for USDC (5/100)\n"
     ]
    }
   ],
   "source": [
    "print(\"🚀 Fetching top 100 coins...\")\n",
    "coins = get_top_100_coins()\n",
    "coins = coins[2:] # 비트코인, 이더리움 제외\n",
    "coin_market_data = {}\n",
    "\n",
    "for i, coin in enumerate(coins):\n",
    "    coin_id = coin[\"id\"]\n",
    "    coin_name = coin[\"name\"]\n",
    "    print(f\"📈 Fetching data for {coin_name} ({i+1}/100)\")\n",
    "    market_caps = get_market_chart(coin_id)\n",
    "    coin_market_data[coin_name] = market_caps\n",
    "    time.sleep(1.2)  # CoinGecko 무료 API 요청 제한 우회\n",
    "\n",
    "    if i >= 10:  # 너무 많으면 오래 걸리니까 예제로 10개만!\n",
    "        break\n",
    "\n",
    "plot_market_caps(coin_market_data)"
   ]
  }
 ],
 "metadata": {
  "kernelspec": {
   "display_name": "base",
   "language": "python",
   "name": "python3"
  },
  "language_info": {
   "codemirror_mode": {
    "name": "ipython",
    "version": 3
   },
   "file_extension": ".py",
   "mimetype": "text/x-python",
   "name": "python",
   "nbconvert_exporter": "python",
   "pygments_lexer": "ipython3",
   "version": "3.12.7"
  }
 },
 "nbformat": 4,
 "nbformat_minor": 5
}
