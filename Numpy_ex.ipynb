{
 "cells": [
  {
   "cell_type": "code",
   "execution_count": 1,
   "id": "9a11788d",
   "metadata": {},
   "outputs": [
    {
     "name": "stdout",
     "output_type": "stream",
     "text": [
      "Requirement already satisfied: numpy in c:\\python311\\lib\\site-packages (2.2.4)\n"
     ]
    },
    {
     "name": "stderr",
     "output_type": "stream",
     "text": [
      "\n",
      "[notice] A new release of pip available: 22.3.1 -> 25.0.1\n",
      "[notice] To update, run: python.exe -m pip install --upgrade pip\n"
     ]
    }
   ],
   "source": [
    "# Python 패키지 설치 명령어\n",
    "!pip install numpy"
   ]
  },
  {
   "cell_type": "code",
   "execution_count": 2,
   "id": "9565354c",
   "metadata": {},
   "outputs": [],
   "source": [
    "# NumPy 불러오기\n",
    "import numpy as np"
   ]
  },
  {
   "cell_type": "code",
   "execution_count": 5,
   "id": "04dd7c35",
   "metadata": {},
   "outputs": [],
   "source": [
    "np.porridge = [79, 65, 50, 63, 56, 90, 85, 98, 79, 51]"
   ]
  },
  {
   "cell_type": "code",
   "execution_count": 6,
   "id": "ceada9d2",
   "metadata": {},
   "outputs": [
    {
     "data": {
      "text/plain": [
       "[50, 56, 51]"
      ]
     },
     "execution_count": 6,
     "metadata": {},
     "output_type": "execute_result"
    }
   ],
   "source": [
    "cold = []\n",
    "for x in np.porridge:\n",
    "    if x < 60:\n",
    "        cold.append(x)\n",
    "\n",
    "cold\n"
   ]
  },
  {
   "cell_type": "code",
   "execution_count": 7,
   "id": "1024a254",
   "metadata": {},
   "outputs": [
    {
     "data": {
      "text/plain": [
       "[50, 56, 51]"
      ]
     },
     "execution_count": 7,
     "metadata": {},
     "output_type": "execute_result"
    }
   ],
   "source": [
    "# cold = [expression for item in iterable if condition]\n",
    "# expression은 리스트에 추가할 값을 정의합니다.\n",
    "# item은 iterable(반복 가능한 객체, 예: 리스트)에서 현재 반복 중인 요소를 나타냅니다.\n",
    "# condition은 선택적으로, 특정 조건을 만족하는 경우에만 요소를 포함하도록 필터링합니다.\n",
    "# 따라서 x는 np_porridge 리스트의 각 요소를 하나씩 가져와서 조건을 체크하고, 그 조건을 만족하는 경우 리스트에 추가되도록 합니다. 예를 들어, x가 50일 때 조건 x <= 60이 참이므로 cold 리스트에 포함됩니다.\n",
    "\n",
    "\n",
    "cold = [x for x in np.porridge if x <60 ]\n",
    "cold\n"
   ]
  },
  {
   "cell_type": "code",
   "execution_count": 8,
   "id": "55a1a7f3",
   "metadata": {},
   "outputs": [
    {
     "data": {
      "text/plain": [
       "[90, 85, 98]"
      ]
     },
     "execution_count": 8,
     "metadata": {},
     "output_type": "execute_result"
    }
   ],
   "source": [
    "hot = []\n",
    "for x in np.porridge:\n",
    "    if x > 80:\n",
    "        hot.append(x)\n",
    "hot"
   ]
  },
  {
   "cell_type": "code",
   "execution_count": 9,
   "id": "d926a7d7",
   "metadata": {},
   "outputs": [
    {
     "data": {
      "text/plain": [
       "[79, 65, 63, 79]"
      ]
     },
     "execution_count": 9,
     "metadata": {},
     "output_type": "execute_result"
    }
   ],
   "source": [
    "just_right = []\n",
    "for x in np.porridge:\n",
    "    if x >= 60 and x <= 80 :\n",
    "        just_right.append(x)\n",
    "just_right"
   ]
  }
 ],
 "metadata": {
  "kernelspec": {
   "display_name": "Python 3",
   "language": "python",
   "name": "python3"
  },
  "language_info": {
   "codemirror_mode": {
    "name": "ipython",
    "version": 3
   },
   "file_extension": ".py",
   "mimetype": "text/x-python",
   "name": "python",
   "nbconvert_exporter": "python",
   "pygments_lexer": "ipython3",
   "version": "3.11.2"
  }
 },
 "nbformat": 4,
 "nbformat_minor": 5
}
